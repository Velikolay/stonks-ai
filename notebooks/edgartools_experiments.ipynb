{
 "cells": [
  {
   "cell_type": "code",
   "execution_count": 2,
   "id": "4b4c5101",
   "metadata": {},
   "outputs": [
    {
     "name": "stderr",
     "output_type": "stream",
     "text": [
      "/Users/nikolayivanov/Git/stonks-ai/venv/lib/python3.13/site-packages/tqdm/auto.py:21: TqdmWarning: IProgress not found. Please update jupyter and ipywidgets. See https://ipywidgets.readthedocs.io/en/stable/user_install.html\n",
      "  from .autonotebook import tqdm as notebook_tqdm\n"
     ]
    },
    {
     "data": {
      "text/html": [
       "<pre style=\"white-space:pre;overflow-x:auto;line-height:normal;font-family:Menlo,'DejaVu Sans Mono',consolas,'Courier New',monospace\"><span style=\"color: #7fbfbf; text-decoration-color: #7fbfbf\">[23:11:23] </span><span style=\"color: #000080; text-decoration-color: #000080\">INFO    </span> Identity of the Edgar REST client set to <span style=\"font-weight: bold\">[</span>felinephonix@gmail.com<span style=\"font-weight: bold\">]</span>                   <a href=\"file:///Users/nikolayivanov/Git/stonks-ai/venv/lib/python3.13/site-packages/edgar/core.py\" target=\"_blank\"><span style=\"color: #7f7f7f; text-decoration-color: #7f7f7f\">core.py</span></a><span style=\"color: #7f7f7f; text-decoration-color: #7f7f7f\">:</span><a href=\"file:///Users/nikolayivanov/Git/stonks-ai/venv/lib/python3.13/site-packages/edgar/core.py#187\" target=\"_blank\"><span style=\"color: #7f7f7f; text-decoration-color: #7f7f7f\">187</span></a>\n",
       "</pre>\n"
      ],
      "text/plain": [
       "\u001b[2;36m[23:11:23]\u001b[0m\u001b[2;36m \u001b[0m\u001b[34mINFO    \u001b[0m Identity of the Edgar REST client set to \u001b[1m[\u001b[0mfelinephonix@gmail.com\u001b[1m]\u001b[0m                   \u001b]8;id=993032;file:///Users/nikolayivanov/Git/stonks-ai/venv/lib/python3.13/site-packages/edgar/core.py\u001b\\\u001b[2mcore.py\u001b[0m\u001b]8;;\u001b\\\u001b[2m:\u001b[0m\u001b]8;id=575461;file:///Users/nikolayivanov/Git/stonks-ai/venv/lib/python3.13/site-packages/edgar/core.py#187\u001b\\\u001b[2m187\u001b[0m\u001b]8;;\u001b\\\n"
      ]
     },
     "metadata": {},
     "output_type": "display_data"
    }
   ],
   "source": [
    "from edgar import Company, set_identity\n",
    "\n",
    "set_identity(\"felinephonix@gmail.com\")"
   ]
  },
  {
   "cell_type": "code",
   "execution_count": 8,
   "id": "40432e51",
   "metadata": {},
   "outputs": [
    {
     "data": {
      "text/html": [
       "<pre style=\"white-space:pre;overflow-x:auto;line-height:normal;font-family:Menlo,'DejaVu Sans Mono',consolas,'Courier New',monospace\"></pre>\n"
      ],
      "text/plain": []
     },
     "metadata": {},
     "output_type": "display_data"
    },
    {
     "data": {
      "text/plain": [
       "\u001b[3m                                         \u001b[0m\u001b[1;3mConsolidated Statement of Income\u001b[0m\u001b[3m                                          \u001b[0m\n",
       "\u001b[3m                                            Three and Nine Months Ended                                            \u001b[0m\n",
       "\u001b[3m                           \u001b[0m\u001b[2;3m(In millions, except shares in thousands and per share data)\u001b[0m\u001b[3m                            \u001b[0m\n",
       "\u001b[37m                                                                                                                   \u001b[0m\n",
       "\u001b[37m \u001b[0m\u001b[1m \u001b[0m\u001b[1m                             \u001b[0m\u001b[1m \u001b[0m\u001b[37m \u001b[0m\u001b[1m \u001b[0m\u001b[1mJun 28, 2025 (Q2)\u001b[0m\u001b[1m \u001b[0m\u001b[37m \u001b[0m\u001b[1m \u001b[0m\u001b[1mJun 29, 2024 (Q2)\u001b[0m\u001b[1m \u001b[0m\u001b[37m \u001b[0m\u001b[1m \u001b[0m\u001b[1mJun 28, 2025 (YTD)\u001b[0m\u001b[1m \u001b[0m\u001b[37m \u001b[0m\u001b[1m \u001b[0m\u001b[1mJun 29, 2024 (YTD)\u001b[0m\u001b[1m \u001b[0m\u001b[37m \u001b[0m\n",
       "\u001b[37m ───────────────────────────────────────────────────────────────────────────────────────────────────────────────── \u001b[0m\n",
       "\u001b[37m \u001b[0m         Products              \u001b[37m \u001b[0m                   \u001b[37m \u001b[0m                   \u001b[37m \u001b[0m                    \u001b[37m \u001b[0m                    \u001b[37m \u001b[0m\n",
       "\u001b[37m \u001b[0m         Services              \u001b[37m \u001b[0m                   \u001b[37m \u001b[0m                   \u001b[37m \u001b[0m                    \u001b[37m \u001b[0m                    \u001b[37m \u001b[0m\n",
       "\u001b[37m \u001b[0m \u001b[1m      Contract Revenue:      \u001b[0m \u001b[37m \u001b[0m           $94,036 \u001b[37m \u001b[0m           $85,777 \u001b[37m \u001b[0m           $313,695 \u001b[37m \u001b[0m           $296,105 \u001b[37m \u001b[0m\n",
       "\u001b[37m \u001b[0m \u001b[2m        Products             \u001b[0m \u001b[37m \u001b[0m           $66,613 \u001b[37m \u001b[0m           $61,564 \u001b[37m \u001b[0m           $233,287 \u001b[37m \u001b[0m           $224,908 \u001b[37m \u001b[0m\n",
       "\u001b[37m \u001b[0m \u001b[2m        Services             \u001b[0m \u001b[37m \u001b[0m           $27,423 \u001b[37m \u001b[0m           $24,213 \u001b[37m \u001b[0m            $80,408 \u001b[37m \u001b[0m            $71,197 \u001b[37m \u001b[0m\n",
       "\u001b[37m \u001b[0m \u001b[2m        iPhone               \u001b[0m \u001b[37m \u001b[0m           $44,582 \u001b[37m \u001b[0m           $39,296 \u001b[37m \u001b[0m           $160,561 \u001b[37m \u001b[0m           $154,961 \u001b[37m \u001b[0m\n",
       "\u001b[37m \u001b[0m \u001b[2m        Mac                  \u001b[0m \u001b[37m \u001b[0m            $8,046 \u001b[37m \u001b[0m            $7,009 \u001b[37m \u001b[0m            $24,982 \u001b[37m \u001b[0m            $22,240 \u001b[37m \u001b[0m\n",
       "\u001b[37m \u001b[0m \u001b[2m        iPad                 \u001b[0m \u001b[37m \u001b[0m            $6,581 \u001b[37m \u001b[0m            $7,162 \u001b[37m \u001b[0m            $21,071 \u001b[37m \u001b[0m            $19,744 \u001b[37m \u001b[0m\n",
       "\u001b[37m \u001b[0m \u001b[2m        Wearables, Home and  \u001b[0m \u001b[37m \u001b[0m            $7,404 \u001b[37m \u001b[0m            $8,097 \u001b[37m \u001b[0m            $26,673 \u001b[37m \u001b[0m            $27,963 \u001b[37m \u001b[0m\n",
       "\u001b[37m \u001b[0m \u001b[2mAccessories                  \u001b[0m \u001b[37m \u001b[0m                   \u001b[37m \u001b[0m                   \u001b[37m \u001b[0m                    \u001b[37m \u001b[0m                    \u001b[37m \u001b[0m\n",
       "\u001b[37m \u001b[0m \u001b[2m        Americas             \u001b[0m \u001b[37m \u001b[0m           $41,198 \u001b[37m \u001b[0m           $37,678 \u001b[37m \u001b[0m           $134,161 \u001b[37m \u001b[0m           $125,381 \u001b[37m \u001b[0m\n",
       "\u001b[37m \u001b[0m \u001b[2m        Europe               \u001b[0m \u001b[37m \u001b[0m           $24,014 \u001b[37m \u001b[0m           $21,884 \u001b[37m \u001b[0m            $82,329 \u001b[37m \u001b[0m            $76,404 \u001b[37m \u001b[0m\n",
       "\u001b[37m \u001b[0m \u001b[2m        Greater China        \u001b[0m \u001b[37m \u001b[0m           $15,369 \u001b[37m \u001b[0m           $14,728 \u001b[37m \u001b[0m            $49,884 \u001b[37m \u001b[0m            $51,919 \u001b[37m \u001b[0m\n",
       "\u001b[37m \u001b[0m \u001b[2m        Japan                \u001b[0m \u001b[37m \u001b[0m            $5,782 \u001b[37m \u001b[0m            $5,097 \u001b[37m \u001b[0m            $22,067 \u001b[37m \u001b[0m            $19,126 \u001b[37m \u001b[0m\n",
       "\u001b[37m \u001b[0m \u001b[2m        Rest of Asia Pacific \u001b[0m \u001b[37m \u001b[0m            $7,673 \u001b[37m \u001b[0m            $6,390 \u001b[37m \u001b[0m            $25,254 \u001b[37m \u001b[0m            $23,275 \u001b[37m \u001b[0m\n",
       "\u001b[37m \u001b[0m \u001b[1m      Cost of Goods and      \u001b[0m \u001b[37m \u001b[0m           $50,318 \u001b[37m \u001b[0m           $46,099 \u001b[37m \u001b[0m           $166,835 \u001b[37m \u001b[0m           $159,301 \u001b[37m \u001b[0m\n",
       "\u001b[37m \u001b[0m \u001b[1mServices Sold:               \u001b[0m \u001b[37m \u001b[0m                   \u001b[37m \u001b[0m                   \u001b[37m \u001b[0m                    \u001b[37m \u001b[0m                    \u001b[37m \u001b[0m\n",
       "\u001b[37m \u001b[0m \u001b[2m        Products             \u001b[0m \u001b[37m \u001b[0m           $43,620 \u001b[37m \u001b[0m           $39,803 \u001b[37m \u001b[0m           $147,097 \u001b[37m \u001b[0m           $140,667 \u001b[37m \u001b[0m\n",
       "\u001b[37m \u001b[0m \u001b[2m        Services             \u001b[0m \u001b[37m \u001b[0m            $6,698 \u001b[37m \u001b[0m            $6,296 \u001b[37m \u001b[0m            $19,738 \u001b[37m \u001b[0m            $18,634 \u001b[37m \u001b[0m\n",
       "\u001b[37m \u001b[0m       Gross Profit            \u001b[37m \u001b[0m           $43,718 \u001b[37m \u001b[0m           $39,678 \u001b[37m \u001b[0m           $146,860 \u001b[37m \u001b[0m           $136,804 \u001b[37m \u001b[0m\n",
       "\u001b[37m \u001b[0m       Operating expenses:     \u001b[37m \u001b[0m                   \u001b[37m \u001b[0m                   \u001b[37m \u001b[0m                    \u001b[37m \u001b[0m                    \u001b[37m \u001b[0m\n",
       "\u001b[37m \u001b[0m \u001b[1m        Research and         \u001b[0m \u001b[37m \u001b[0m            $8,866 \u001b[37m \u001b[0m            $8,006 \u001b[37m \u001b[0m            $25,684 \u001b[37m \u001b[0m            $23,605 \u001b[37m \u001b[0m\n",
       "\u001b[37m \u001b[0m \u001b[1mDevelopment Expense:         \u001b[0m \u001b[37m \u001b[0m                   \u001b[37m \u001b[0m                   \u001b[37m \u001b[0m                    \u001b[37m \u001b[0m                    \u001b[37m \u001b[0m\n",
       "\u001b[37m \u001b[0m \u001b[2m          Segment reconciling\u001b[0m \u001b[37m \u001b[0m            $8,866 \u001b[37m \u001b[0m            $8,006 \u001b[37m \u001b[0m            $25,684 \u001b[37m \u001b[0m            $23,605 \u001b[37m \u001b[0m\n",
       "\u001b[37m \u001b[0m \u001b[2mitems                        \u001b[0m \u001b[37m \u001b[0m                   \u001b[37m \u001b[0m                   \u001b[37m \u001b[0m                    \u001b[37m \u001b[0m                    \u001b[37m \u001b[0m\n",
       "\u001b[37m \u001b[0m         Selling, General and  \u001b[37m \u001b[0m            $6,650 \u001b[37m \u001b[0m            $6,320 \u001b[37m \u001b[0m            $20,553 \u001b[37m \u001b[0m            $19,574 \u001b[37m \u001b[0m\n",
       "\u001b[37m \u001b[0m Administrative Expense        \u001b[37m \u001b[0m                   \u001b[37m \u001b[0m                   \u001b[37m \u001b[0m                    \u001b[37m \u001b[0m                    \u001b[37m \u001b[0m\n",
       "\u001b[37m \u001b[0m         Operating Expenses    \u001b[37m \u001b[0m           $15,516 \u001b[37m \u001b[0m           $14,326 \u001b[37m \u001b[0m            $46,237 \u001b[37m \u001b[0m            $43,179 \u001b[37m \u001b[0m\n",
       "\u001b[37m \u001b[0m \u001b[1m      Operating Income:      \u001b[0m \u001b[37m \u001b[0m           $28,202 \u001b[37m \u001b[0m           $25,352 \u001b[37m \u001b[0m           $100,623 \u001b[37m \u001b[0m            $93,625 \u001b[37m \u001b[0m\n",
       "\u001b[37m \u001b[0m \u001b[2m        Americas             \u001b[0m \u001b[37m \u001b[0m           $16,511 \u001b[37m \u001b[0m           $15,209 \u001b[37m \u001b[0m            $54,794 \u001b[37m \u001b[0m            $50,640 \u001b[37m \u001b[0m\n",
       "\u001b[37m \u001b[0m \u001b[2m        Europe               \u001b[0m \u001b[37m \u001b[0m           $10,501 \u001b[37m \u001b[0m            $9,170 \u001b[37m \u001b[0m            $35,424 \u001b[37m \u001b[0m            $31,872 \u001b[37m \u001b[0m\n",
       "\u001b[37m \u001b[0m \u001b[2m        Greater China        \u001b[0m \u001b[37m \u001b[0m            $5,822 \u001b[37m \u001b[0m            $5,562 \u001b[37m \u001b[0m            $20,608 \u001b[37m \u001b[0m            $20,884 \u001b[37m \u001b[0m\n",
       "\u001b[37m \u001b[0m \u001b[2m        Japan                \u001b[0m \u001b[37m \u001b[0m            $2,872 \u001b[37m \u001b[0m            $2,544 \u001b[37m \u001b[0m            $10,620 \u001b[37m \u001b[0m             $9,498 \u001b[37m \u001b[0m\n",
       "\u001b[37m \u001b[0m \u001b[2m        Rest of Asia Pacific \u001b[0m \u001b[37m \u001b[0m            $3,243 \u001b[37m \u001b[0m            $2,610 \u001b[37m \u001b[0m            $10,813 \u001b[37m \u001b[0m             $9,995 \u001b[37m \u001b[0m\n",
       "\u001b[37m \u001b[0m \u001b[2m        Operating segments   \u001b[0m \u001b[37m \u001b[0m           $38,949 \u001b[37m \u001b[0m           $35,095 \u001b[37m \u001b[0m           $132,259 \u001b[37m \u001b[0m           $122,889 \u001b[37m \u001b[0m\n",
       "\u001b[37m \u001b[0m       Nonoperating            \u001b[37m \u001b[0m            $(171) \u001b[37m \u001b[0m              $142 \u001b[37m \u001b[0m             $(698) \u001b[37m \u001b[0m               $250 \u001b[37m \u001b[0m\n",
       "\u001b[37m \u001b[0m Income/Expense                \u001b[37m \u001b[0m                   \u001b[37m \u001b[0m                   \u001b[37m \u001b[0m                    \u001b[37m \u001b[0m                    \u001b[37m \u001b[0m\n",
       "\u001b[37m \u001b[0m       Income Before Tax from  \u001b[37m \u001b[0m            28,031 \u001b[37m \u001b[0m            25,494 \u001b[37m \u001b[0m             99,925 \u001b[37m \u001b[0m             93,875 \u001b[37m \u001b[0m\n",
       "\u001b[37m \u001b[0m Continuing Operations         \u001b[37m \u001b[0m                   \u001b[37m \u001b[0m                   \u001b[37m \u001b[0m                    \u001b[37m \u001b[0m                    \u001b[37m \u001b[0m\n",
       "\u001b[37m \u001b[0m       Income Tax Expense      \u001b[37m \u001b[0m            $4,597 \u001b[37m \u001b[0m            $4,046 \u001b[37m \u001b[0m            $15,381 \u001b[37m \u001b[0m            $14,875 \u001b[37m \u001b[0m\n",
       "\u001b[37m \u001b[0m \u001b[1m      Net Income:            \u001b[0m \u001b[37m \u001b[0m           $23,434 \u001b[37m \u001b[0m           $21,448 \u001b[37m \u001b[0m            $84,544 \u001b[37m \u001b[0m            $79,000 \u001b[37m \u001b[0m\n",
       "\u001b[37m \u001b[0m \u001b[2m        Retained             \u001b[0m \u001b[37m \u001b[0m           $23,434 \u001b[37m \u001b[0m           $21,448 \u001b[37m \u001b[0m            $84,544 \u001b[37m \u001b[0m            $79,000 \u001b[37m \u001b[0m\n",
       "\u001b[37m \u001b[0m \u001b[2mearnings/(Accumulated        \u001b[0m \u001b[37m \u001b[0m                   \u001b[37m \u001b[0m                   \u001b[37m \u001b[0m                    \u001b[37m \u001b[0m                    \u001b[37m \u001b[0m\n",
       "\u001b[37m \u001b[0m \u001b[2mdeficit)                     \u001b[0m \u001b[37m \u001b[0m                   \u001b[37m \u001b[0m                   \u001b[37m \u001b[0m                    \u001b[37m \u001b[0m                    \u001b[37m \u001b[0m\n",
       "\u001b[37m \u001b[0m       Earnings Per Share      \u001b[37m \u001b[0m                   \u001b[37m \u001b[0m                   \u001b[37m \u001b[0m                    \u001b[37m \u001b[0m                    \u001b[37m \u001b[0m\n",
       "\u001b[37m \u001b[0m         Earnings Per Share    \u001b[37m \u001b[0m              1.57 \u001b[37m \u001b[0m              1.40 \u001b[37m \u001b[0m               5.64 \u001b[37m \u001b[0m               5.13 \u001b[37m \u001b[0m\n",
       "\u001b[37m \u001b[0m (Basic)                       \u001b[37m \u001b[0m                   \u001b[37m \u001b[0m                   \u001b[37m \u001b[0m                    \u001b[37m \u001b[0m                    \u001b[37m \u001b[0m\n",
       "\u001b[37m \u001b[0m         Earnings Per Share    \u001b[37m \u001b[0m              1.57 \u001b[37m \u001b[0m              1.40 \u001b[37m \u001b[0m               5.62 \u001b[37m \u001b[0m               5.11 \u001b[37m \u001b[0m\n",
       "\u001b[37m \u001b[0m (Diluted)                     \u001b[37m \u001b[0m                   \u001b[37m \u001b[0m                   \u001b[37m \u001b[0m                    \u001b[37m \u001b[0m                    \u001b[37m \u001b[0m\n",
       "\u001b[37m \u001b[0m       Shares Outstanding      \u001b[37m \u001b[0m                   \u001b[37m \u001b[0m                   \u001b[37m \u001b[0m                    \u001b[37m \u001b[0m                    \u001b[37m \u001b[0m\n",
       "\u001b[37m \u001b[0m         Shares Outstanding    \u001b[37m \u001b[0m        14,902,886 \u001b[37m \u001b[0m        15,287,521 \u001b[37m \u001b[0m         14,992,898 \u001b[37m \u001b[0m         15,401,047 \u001b[37m \u001b[0m\n",
       "\u001b[37m \u001b[0m (Basic)                       \u001b[37m \u001b[0m                   \u001b[37m \u001b[0m                   \u001b[37m \u001b[0m                    \u001b[37m \u001b[0m                    \u001b[37m \u001b[0m\n",
       "\u001b[37m \u001b[0m         Shares Outstanding    \u001b[37m \u001b[0m        14,948,179 \u001b[37m \u001b[0m        15,348,175 \u001b[37m \u001b[0m         15,051,726 \u001b[37m \u001b[0m         15,463,175 \u001b[37m \u001b[0m\n",
       "\u001b[37m \u001b[0m (Diluted)                     \u001b[37m \u001b[0m                   \u001b[37m \u001b[0m                   \u001b[37m \u001b[0m                    \u001b[37m \u001b[0m                    \u001b[37m \u001b[0m\n",
       "\u001b[37m                                                                                                                   \u001b[0m\n",
       "\u001b[2;3m                       \u001b[0m\u001b[2;3mApple Inc. • Period ending 2025-06-28 • Fiscal Q3 • Source: SEC XBRL\u001b[0m\u001b[2;3m                        \u001b[0m"
      ]
     },
     "execution_count": 8,
     "metadata": {},
     "output_type": "execute_result"
    }
   ],
   "source": [
    "# Load company and get latest 10-K filing\n",
    "company = Company(\"AAPL\")  # Change ticker as needed\n",
    "# filing = company.get_filings(form=\"10-Q\", is_xbrl=True).latest()\n",
    "# filing = company.get_filings(accession_number=\"0000320193-20-000052\").latest()\n",
    "filing = company.get_filings(form=\"10-Q\").latest()\n",
    "\n",
    "statement_df = filing.xbrl().statements.income_statement()\n",
    "\n",
    "statement_df"
   ]
  }
 ],
 "metadata": {
  "kernelspec": {
   "display_name": "venv",
   "language": "python",
   "name": "python3"
  },
  "language_info": {
   "codemirror_mode": {
    "name": "ipython",
    "version": 3
   },
   "file_extension": ".py",
   "mimetype": "text/x-python",
   "name": "python",
   "nbconvert_exporter": "python",
   "pygments_lexer": "ipython3",
   "version": "3.13.3"
  }
 },
 "nbformat": 4,
 "nbformat_minor": 5
}
