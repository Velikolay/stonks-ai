{
 "cells": [
  {
   "cell_type": "code",
   "execution_count": 3,
   "id": "4b4c5101",
   "metadata": {},
   "outputs": [
    {
     "data": {
      "text/html": [
       "<pre style=\"white-space:pre;overflow-x:auto;line-height:normal;font-family:Menlo,'DejaVu Sans Mono',consolas,'Courier New',monospace\"><span style=\"color: #7fbfbf; text-decoration-color: #7fbfbf\">[18:23:43] </span><span style=\"color: #000080; text-decoration-color: #000080\">INFO    </span> Identity of the Edgar REST client set to <span style=\"font-weight: bold\">[</span>felinephonix@gmail.com<span style=\"font-weight: bold\">]</span>                   <a href=\"file:///Users/nikolayivanov/Git/stonks-ai/venv/lib/python3.13/site-packages/edgar/core.py\" target=\"_blank\"><span style=\"color: #7f7f7f; text-decoration-color: #7f7f7f\">core.py</span></a><span style=\"color: #7f7f7f; text-decoration-color: #7f7f7f\">:</span><a href=\"file:///Users/nikolayivanov/Git/stonks-ai/venv/lib/python3.13/site-packages/edgar/core.py#182\" target=\"_blank\"><span style=\"color: #7f7f7f; text-decoration-color: #7f7f7f\">182</span></a>\n",
       "</pre>\n"
      ],
      "text/plain": [
       "\u001b[2;36m[18:23:43]\u001b[0m\u001b[2;36m \u001b[0m\u001b[34mINFO    \u001b[0m Identity of the Edgar REST client set to \u001b[1m[\u001b[0mfelinephonix@gmail.com\u001b[1m]\u001b[0m                   \u001b]8;id=642722;file:///Users/nikolayivanov/Git/stonks-ai/venv/lib/python3.13/site-packages/edgar/core.py\u001b\\\u001b[2mcore.py\u001b[0m\u001b]8;;\u001b\\\u001b[2m:\u001b[0m\u001b]8;id=850622;file:///Users/nikolayivanov/Git/stonks-ai/venv/lib/python3.13/site-packages/edgar/core.py#182\u001b\\\u001b[2m182\u001b[0m\u001b]8;;\u001b\\\n"
      ]
     },
     "metadata": {},
     "output_type": "display_data"
    }
   ],
   "source": [
    "from edgar import Company, set_identity\n",
    "\n",
    "set_identity(\"felinephonix@gmail.com\")"
   ]
  },
  {
   "cell_type": "code",
   "execution_count": 7,
   "id": "2e8c7451",
   "metadata": {},
   "outputs": [
    {
     "data": {
      "text/html": [
       "<pre style=\"white-space:pre;overflow-x:auto;line-height:normal;font-family:Menlo,'DejaVu Sans Mono',consolas,'Courier New',monospace\"></pre>\n"
      ],
      "text/plain": []
     },
     "metadata": {},
     "output_type": "display_data"
    },
    {
     "data": {
      "text/plain": [
       "\u001b[3m                                  Consolidated Statement of Income (Standardized)                                  \u001b[0m\n",
       "\u001b[3m                  \u001b[0m\u001b[1;3mThree Months Ended\u001b[0m\u001b[3m \u001b[0m\u001b[3m(In millions, except shares in thousands and per share data)\u001b[0m\u001b[3m                  \u001b[0m\n",
       "                                                                                                                   \n",
       " \u001b[1m \u001b[0m\u001b[1m                                                  \u001b[0m\u001b[1m \u001b[0m \u001b[1m \u001b[0m\u001b[1mJun 27, 2020 (Q2)\u001b[0m\u001b[1m \u001b[0m \u001b[1m \u001b[0m\u001b[1mJun 29, 2019 (Q2)\u001b[0m\u001b[1m \u001b[0m \u001b[1m \u001b[0m\u001b[1mJun 27, 2020 (YTD)\u001b[0m\u001b[1m \u001b[0m \n",
       " ───────────────────────────────────────────────────────────────────────────────────────────────────────────────── \n",
       "          Products                                                                                                 \n",
       "          Services                                                                                                 \n",
       "        Contract Revenue                                         $59,685             $53,809             $209,817  \n",
       "        Cost of Goods and Services Sold                        $(37,005)           $(33,582)           $(129,550)  \n",
       "        Gross Profit                                             $22,680             $20,227              $80,267  \n",
       "        Operating expenses:                                                                                        \n",
       "          Research and Development Expense                        $4,758              $4,257              $13,774  \n",
       "          Selling, General and Administrative                     $4,831              $4,426              $14,980  \n",
       "  Expense                                                                                                          \n",
       "          Operating Expenses                                    $(9,589)            $(8,683)            $(28,754)  \n",
       "        Operating Income                                         $13,091             $11,544              $51,513  \n",
       "        Nonoperating Income/Expense                                  $46                $367                 $677  \n",
       "        Income Before Tax from Continuing Operations              13,137              11,911               52,190  \n",
       "        Income Tax Expense                                      $(1,884)            $(1,867)             $(7,452)  \n",
       "        Net Income                                               $11,253             $10,044              $44,738  \n",
       "        Earnings Per Share                                                                                         \n",
       "          Earnings Per Share (Basic)                                2.61                2.20                10.25  \n",
       "          Earnings Per Share (Diluted)                              2.58                2.18                10.16  \n",
       "        Shares Outstanding                                                                                         \n",
       "          Shares Outstanding (Basic)                           4,312,573           4,570,633            4,362,571  \n",
       "          Shares Outstanding (Diluted)                         4,354,788           4,601,380            4,404,695  \n",
       "                                                                                                                   "
      ]
     },
     "execution_count": 7,
     "metadata": {},
     "output_type": "execute_result"
    }
   ],
   "source": [
    "# Load company and get latest 10-K filing\n",
    "company = Company(\"AAPL\")  # Change ticker as needed\n",
    "# filing = company.get_filings(form=\"10-Q\").latest()\n",
    "# filing = company.get_filings(accession_number=\"0000320193-20-000052\").latest()\n",
    "filing = company.get_filings(accession_number=\"0000320193-20-000062\").latest()\n",
    "\n",
    "filing.xbrl().statements.income_statement()"
   ]
  }
 ],
 "metadata": {
  "kernelspec": {
   "display_name": "venv",
   "language": "python",
   "name": "python3"
  },
  "language_info": {
   "codemirror_mode": {
    "name": "ipython",
    "version": 3
   },
   "file_extension": ".py",
   "mimetype": "text/x-python",
   "name": "python",
   "nbconvert_exporter": "python",
   "pygments_lexer": "ipython3",
   "version": "3.13.3"
  }
 },
 "nbformat": 4,
 "nbformat_minor": 5
}
