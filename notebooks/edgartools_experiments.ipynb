{
 "cells": [
  {
   "cell_type": "code",
   "execution_count": 1,
   "id": "4b4c5101",
   "metadata": {},
   "outputs": [
    {
     "name": "stderr",
     "output_type": "stream",
     "text": [
      "/Users/nikolayivanov/Git/stonks-ai/venv/lib/python3.13/site-packages/tqdm/auto.py:21: TqdmWarning: IProgress not found. Please update jupyter and ipywidgets. See https://ipywidgets.readthedocs.io/en/stable/user_install.html\n",
      "  from .autonotebook import tqdm as notebook_tqdm\n"
     ]
    },
    {
     "data": {
      "text/html": [
       "<pre style=\"white-space:pre;overflow-x:auto;line-height:normal;font-family:Menlo,'DejaVu Sans Mono',consolas,'Courier New',monospace\"><span style=\"color: #7fbfbf; text-decoration-color: #7fbfbf\">[18:14:56] </span><span style=\"color: #000080; text-decoration-color: #000080\">INFO    </span> Identity of the Edgar REST client set to <span style=\"font-weight: bold\">[</span>felinephonix@gmail.com<span style=\"font-weight: bold\">]</span>                   <a href=\"file:///Users/nikolayivanov/Git/stonks-ai/venv/lib/python3.13/site-packages/edgar/core.py\" target=\"_blank\"><span style=\"color: #7f7f7f; text-decoration-color: #7f7f7f\">core.py</span></a><span style=\"color: #7f7f7f; text-decoration-color: #7f7f7f\">:</span><a href=\"file:///Users/nikolayivanov/Git/stonks-ai/venv/lib/python3.13/site-packages/edgar/core.py#187\" target=\"_blank\"><span style=\"color: #7f7f7f; text-decoration-color: #7f7f7f\">187</span></a>\n",
       "</pre>\n"
      ],
      "text/plain": [
       "\u001b[2;36m[18:14:56]\u001b[0m\u001b[2;36m \u001b[0m\u001b[34mINFO    \u001b[0m Identity of the Edgar REST client set to \u001b[1m[\u001b[0mfelinephonix@gmail.com\u001b[1m]\u001b[0m                   \u001b]8;id=215418;file:///Users/nikolayivanov/Git/stonks-ai/venv/lib/python3.13/site-packages/edgar/core.py\u001b\\\u001b[2mcore.py\u001b[0m\u001b]8;;\u001b\\\u001b[2m:\u001b[0m\u001b]8;id=391044;file:///Users/nikolayivanov/Git/stonks-ai/venv/lib/python3.13/site-packages/edgar/core.py#187\u001b\\\u001b[2m187\u001b[0m\u001b]8;;\u001b\\\n"
      ]
     },
     "metadata": {},
     "output_type": "display_data"
    }
   ],
   "source": [
    "from edgar import Company, set_identity\n",
    "\n",
    "set_identity(\"felinephonix@gmail.com\")"
   ]
  },
  {
   "cell_type": "code",
   "execution_count": 9,
   "id": "84287dea",
   "metadata": {},
   "outputs": [
    {
     "data": {
      "text/html": [
       "<pre style=\"white-space:pre;overflow-x:auto;line-height:normal;font-family:Menlo,'DejaVu Sans Mono',consolas,'Courier New',monospace\"></pre>\n"
      ],
      "text/plain": []
     },
     "metadata": {},
     "output_type": "display_data"
    },
    {
     "data": {
      "text/plain": [
       "\u001b[3m                    \u001b[0m\u001b[1;3mConsolidated Balance Sheets\u001b[0m\u001b[3m                     \u001b[0m\n",
       "\u001b[3m                               As of                                \u001b[0m\n",
       "\u001b[3m          \u001b[0m\u001b[2;3m(In millions, except shares and per share data)\u001b[0m\u001b[3m           \u001b[0m\n",
       "\u001b[37m                                                                    \u001b[0m\n",
       "\u001b[37m \u001b[0m\u001b[1m \u001b[0m\u001b[1m                                                 \u001b[0m\u001b[1m \u001b[0m\u001b[37m \u001b[0m\u001b[1m \u001b[0m\u001b[1mSep 24, 2022\u001b[0m\u001b[1m \u001b[0m\u001b[37m \u001b[0m\n",
       "\u001b[37m ────────────────────────────────────────────────────────────────── \u001b[0m\n",
       "\u001b[37m \u001b[0m \u001b[1mASSETS:                                          \u001b[0m \u001b[37m \u001b[0m              \u001b[37m \u001b[0m\n",
       "\u001b[37m \u001b[0m   Current assets:                                 \u001b[37m \u001b[0m              \u001b[37m \u001b[0m\n",
       "\u001b[37m \u001b[0m       Cash and Cash Equivalents                   \u001b[37m \u001b[0m      $23,646 \u001b[37m \u001b[0m\n",
       "\u001b[37m \u001b[0m       Current Marketable Securities               \u001b[37m \u001b[0m      $24,658 \u001b[37m \u001b[0m\n",
       "\u001b[37m \u001b[0m       Accounts Receivable                         \u001b[37m \u001b[0m      $28,184 \u001b[37m \u001b[0m\n",
       "\u001b[37m \u001b[0m       Inventory                                   \u001b[37m \u001b[0m       $4,946 \u001b[37m \u001b[0m\n",
       "\u001b[37m \u001b[0m       Vendor non-trade receivables                \u001b[37m \u001b[0m      $32,748 \u001b[37m \u001b[0m\n",
       "\u001b[37m \u001b[0m       Other Current Assets                        \u001b[37m \u001b[0m      $21,223 \u001b[37m \u001b[0m\n",
       "\u001b[37m \u001b[0m       Total Current Assets                        \u001b[37m \u001b[0m \u001b[1m    $135,405\u001b[0m \u001b[37m \u001b[0m\n",
       "\u001b[37m \u001b[0m   Non-current assets:                             \u001b[37m \u001b[0m              \u001b[37m \u001b[0m\n",
       "\u001b[37m \u001b[0m       Non Current Marketable Securities           \u001b[37m \u001b[0m     $120,805 \u001b[37m \u001b[0m\n",
       "\u001b[37m \u001b[0m       Property, Plant and Equipment               \u001b[37m \u001b[0m      $42,117 \u001b[37m \u001b[0m\n",
       "\u001b[37m \u001b[0m       Other Non Current Assets                    \u001b[37m \u001b[0m      $54,428 \u001b[37m \u001b[0m\n",
       "\u001b[37m \u001b[0m       Total Non Current Assets                    \u001b[37m \u001b[0m \u001b[1m    $217,350\u001b[0m \u001b[37m \u001b[0m\n",
       "\u001b[37m \u001b[0m     Total Assets                                  \u001b[37m \u001b[0m \u001b[1m    $352,755\u001b[0m \u001b[37m \u001b[0m\n",
       "\u001b[37m \u001b[0m \u001b[1mLIABILITIES AND SHAREHOLDERS’ EQUITY:            \u001b[0m \u001b[37m \u001b[0m              \u001b[37m \u001b[0m\n",
       "\u001b[37m \u001b[0m   Current liabilities:                            \u001b[37m \u001b[0m              \u001b[37m \u001b[0m\n",
       "\u001b[37m \u001b[0m       Accounts Payable                            \u001b[37m \u001b[0m      $64,115 \u001b[37m \u001b[0m\n",
       "\u001b[37m \u001b[0m       Other Current Liabilities                   \u001b[37m \u001b[0m      $60,845 \u001b[37m \u001b[0m\n",
       "\u001b[37m \u001b[0m       Deferred revenue                            \u001b[37m \u001b[0m       $7,912 \u001b[37m \u001b[0m\n",
       "\u001b[37m \u001b[0m       Commercial paper                            \u001b[37m \u001b[0m       $9,982 \u001b[37m \u001b[0m\n",
       "\u001b[37m \u001b[0m       Short Term Debt                             \u001b[37m \u001b[0m      $11,128 \u001b[37m \u001b[0m\n",
       "\u001b[37m \u001b[0m       Total Current Liabilities                   \u001b[37m \u001b[0m \u001b[1m    $153,982\u001b[0m \u001b[37m \u001b[0m\n",
       "\u001b[37m \u001b[0m   Non-current liabilities:                        \u001b[37m \u001b[0m              \u001b[37m \u001b[0m\n",
       "\u001b[37m \u001b[0m       Long Term Debt                              \u001b[37m \u001b[0m      $98,959 \u001b[37m \u001b[0m\n",
       "\u001b[37m \u001b[0m       Other Non Current Liabilities               \u001b[37m \u001b[0m      $49,142 \u001b[37m \u001b[0m\n",
       "\u001b[37m \u001b[0m       Total Non Current Liabilities               \u001b[37m \u001b[0m \u001b[1m    $148,101\u001b[0m \u001b[37m \u001b[0m\n",
       "\u001b[37m \u001b[0m     Total Liabilities                             \u001b[37m \u001b[0m \u001b[1m    $302,083\u001b[0m \u001b[37m \u001b[0m\n",
       "\u001b[37m \u001b[0m     Commitments and contingencies                 \u001b[37m \u001b[0m              \u001b[37m \u001b[0m\n",
       "\u001b[37m \u001b[0m   Shareholders’ equity:                           \u001b[37m \u001b[0m              \u001b[37m \u001b[0m\n",
       "\u001b[37m \u001b[0m       Common Stock                                \u001b[37m \u001b[0m      $64,849 \u001b[37m \u001b[0m\n",
       "\u001b[37m \u001b[0m       Retained Earnings                           \u001b[37m \u001b[0m     $(3,068) \u001b[37m \u001b[0m\n",
       "\u001b[37m \u001b[0m       Accumulated Other Comprehensive Income/Loss \u001b[37m \u001b[0m    $(11,109) \u001b[37m \u001b[0m\n",
       "\u001b[37m \u001b[0m       Total Stockholders' Equity                  \u001b[37m \u001b[0m \u001b[1m     $50,672\u001b[0m \u001b[37m \u001b[0m\n",
       "\u001b[37m \u001b[0m     Total Liabilities and Stockholders' Equity    \u001b[37m \u001b[0m \u001b[1m    $352,755\u001b[0m \u001b[37m \u001b[0m\n",
       "\u001b[37m                                                                    \u001b[0m\n",
       "\u001b[2;3mApple Inc. • Period ending 2022-09-24 • Fiscal FY • Source: SEC XBRL\u001b[0m"
      ]
     },
     "execution_count": 9,
     "metadata": {},
     "output_type": "execute_result"
    }
   ],
   "source": [
    "# Load company and get latest 10-K filing\n",
    "company = Company(\"AAPL\")  # Change ticker as needed\n",
    "# filing = company.get_filings(form=\"10-Q\", is_xbrl=True).latest()\n",
    "# filing = company.get_filings(accession_number=\"0001193125-11-282113\").latest()\n",
    "# filing = company.get_filings(accession_number=\"0001193125-11-104388\").latest()\n",
    "filing = company.get_filings(form=\"10-K\", year='2022').latest()\n",
    "\n",
    "# statement_df = filing.xbrl().query().by_concept(\"Revenue\").by_dimension(\"ProductOrServiceAxis\")\n",
    "statement_df = filing.xbrl().statements.balance_sheet()\n",
    "\n",
    "statement_df\n",
    "# statement_df.to_dataframe(include_unit=True)"
   ]
  }
 ],
 "metadata": {
  "kernelspec": {
   "display_name": "venv",
   "language": "python",
   "name": "python3"
  },
  "language_info": {
   "codemirror_mode": {
    "name": "ipython",
    "version": 3
   },
   "file_extension": ".py",
   "mimetype": "text/x-python",
   "name": "python",
   "nbconvert_exporter": "python",
   "pygments_lexer": "ipython3",
   "version": "3.13.3"
  }
 },
 "nbformat": 4,
 "nbformat_minor": 5
}
